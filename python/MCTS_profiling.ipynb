{
 "cells": [
  {
   "cell_type": "code",
   "execution_count": 1,
   "metadata": {},
   "outputs": [],
   "source": [
    "%load_ext line_profiler\n",
    "from mcts import MCTS, Go_MCTS\n",
    "from bokeNet import PolicyNet, ValueNet, policy_dist, features, value\n",
    "import torch"
   ]
  },
  {
   "cell_type": "code",
   "execution_count": 2,
   "metadata": {},
   "outputs": [],
   "source": [
    "device = torch.device(\"cuda:0\" if torch.cuda.is_available() else \"cpu\")\n",
    "pi = PolicyNet()\n",
    "checkpt = torch.load(\"C:\\\\Users\\\\kyles\\\\Documents\\\\GitHub\\\\BokeGo\\\\python\\\\v0.2\\\\policy_2020-11-12_2.pt\", map_location = device)\n",
    "pi.load_state_dict(checkpt[\"model_state_dict\"])\n",
    "pi.eval()\n",
    "val = ValueNet()\n",
    "checkpt = torch.load(\"C:\\\\Users\\\\kyles\\\\Documents\\\\GitHub\\\\BokeGo\\\\python\\\\v0.2\\\\value_2020-11-13_6.pt\", map_location = device)\n",
    "val.load_state_dict(checkpt[\"model_state_dict\"])\n",
    "val.eval()\n",
    "tree = MCTS(value_net=val, policy_net=pi)\n",
    "board = Go_MCTS()"
   ]
  },
  {
   "cell_type": "code",
   "execution_count": 3,
   "metadata": {},
   "outputs": [
    {
     "name": "stderr",
     "output_type": "stream",
     "text": [
      "C:\\Users\\kyles\\Anaconda3\\envs\\finance\\lib\\site-packages\\torch\\nn\\modules\\loss.py:446: UserWarning: Using a target size (torch.Size([1])) that is different to the input size (torch.Size([1, 1])). This will likely lead to incorrect results due to broadcasting. Please ensure they have the same size.\n",
      "  return F.mse_loss(input, target, reduction=self.reduction)\n"
     ]
    },
    {
     "data": {
      "text/plain": [
       "tensor(4.7173e-06, grad_fn=<MseLossBackward>)"
      ]
     },
     "execution_count": 3,
     "metadata": {},
     "output_type": "execute_result"
    }
   ],
   "source": [
    "from torch.nn import MSELoss\n",
    "import torch\n",
    "v = ValueNet()\n",
    "t = torch.randn(1,27,9,9)\n",
    "loss = MSELoss()\n",
    "loss(v(t), torch.Tensor(1))"
   ]
  },
  {
   "cell_type": "code",
   "execution_count": 4,
   "metadata": {},
   "outputs": [
    {
     "data": {
      "text/plain": [
       "Timer unit: 1e-07 s\n",
       "\n",
       "Total time: 0.0087317 s\n",
       "File: C:\\Users\\kyles\\Documents\\GitHub\\BokeGo\\python\\bokeNet.py\n",
       "Function: features at line 116\n",
       "\n",
       "Line #      Hits         Time  Per Hit   % Time  Line Contents\n",
       "==============================================================\n",
       "   116                                           def features(game: go.Game):\n",
       "   117                                               ''' go.Game --> (27,9,9) torch.Tensor\n",
       "   118                                                   Compute the input features from the board state\n",
       "   119                                                   \n",
       "   120                                                   9x9 layer index: feature\n",
       "   121                                                   ------------------------\n",
       "   122                                                   0: player stones        \n",
       "   123                                                       1 if coord has player's stones, else 0\n",
       "   124                                                   1: opponent stones      \n",
       "   125                                                       1 if coord has opponent's stone, else 0\n",
       "   126                                                   2: empty                \n",
       "   127                                                       1 if coord is empty, else 0\n",
       "   128                                                   3: turn                 \n",
       "   129                                                       all 1's if it is B's turn, all 0's if it is W's turn\n",
       "   130                                                   4: last move\n",
       "   131                                                       1 if coord was last move, else 0\n",
       "   132                                                   5: legal                \n",
       "   133                                                       1 if coord is legal move for player, else 0\n",
       "   134                                                   6-12: liberties         \n",
       "   135                                                       n if stone at coord has n liberties, else 0\n",
       "   136                                                       layer 5 has coords with 1 liberty\n",
       "   137                                                       layer 6 has coords with 2 liberties\n",
       "   138                                                       ...\n",
       "   139                                                       layer 11 has coords with >6 liberties\n",
       "   140                                                   13-19: liberties after playing\n",
       "   141                                                       n if coord is a legal move and player's stone has n liberties after playing, else 0\n",
       "   142                                                       liberties are separated the same way as 5-11\n",
       "   143                                                   20-26: number of captures\n",
       "   144                                                       n if playing at coord would capture n opponent stones, else 0\n",
       "   145                                                       number of captures are separated the same way as 5-11\n",
       "   146                                                   '''\n",
       "   147         1        785.0    785.0      0.9      plyr = np.array(game.get_board()).reshape(1,9,9)\n",
       "   148         1        311.0    311.0      0.4      oppt = np.copy(plyr) \n",
       "   149         1         42.0     42.0      0.0      turn_num = (1 if game.turn%2 == 0 else -1)\n",
       "   150         1         28.0     28.0      0.0      color = (go.BLACK if turn_num == 1 else go.WHITE)\n",
       "   151         1        368.0    368.0      0.4      plyr[plyr == -turn_num] = 0\n",
       "   152         1         54.0     54.0      0.1      oppt[oppt == turn_num] = 0\n",
       "   153         1        186.0    186.0      0.2      plyr *= turn_num \n",
       "   154         1         54.0     54.0      0.1      oppt *= -turn_num\n",
       "   155         1        412.0    412.0      0.5      empty = np.invert((plyr + oppt).astype(bool)).astype(float)\n",
       "   156         1         20.0     20.0      0.0      if color == go.BLACK:\n",
       "   157         1        240.0    240.0      0.3          turn = np.ones((1,9,9), dtype = float)\n",
       "   158                                               else:\n",
       "   159                                                   turn = np.zeros((1,9,9), dtype = float)\n",
       "   160         1         66.0     66.0      0.1      last_mv = np.zeros(81, dtype = float)\n",
       "   161         1         27.0     27.0      0.0      if isinstance(game.last_move, int) and game.last_move >= 0:\n",
       "   162                                                   last_mv[game.last_move] = 1.0\n",
       "   163         1         31.0     31.0      0.0      last_mv = last_mv.reshape(1,9,9)\n",
       "   164         1      37785.0  37785.0     43.3      legal = np.array([game.is_legal(sq_c) for sq_c in range(81)], dtype = float) #very slow\n",
       "   165         1        345.0    345.0      0.4      libs = np.array(game.get_liberties(), dtype = float).reshape(9,9)\n",
       "   166         1         74.0     74.0      0.1      libs_after = np.zeros(81, dtype = float)\n",
       "   167         1         36.0     36.0      0.0      caps = np.zeros(81, dtype = float)\n",
       "   168        82       2200.0     26.8      2.5      for sq_c in np.nonzero(legal)[0]:\n",
       "   169        81      14545.0    179.6     16.7          new_board, opp_captured = go.get_caps(go.place_stone(color, game.board,sq_c), sq_c, color)\n",
       "   170        81       1228.0     15.2      1.4          if opp_captured:\n",
       "   171                                                       libs_after[sq_c] = go.get_stone_lib(new_board, sq_c)\n",
       "   172                                                       caps[sq_c] = len(opp_captured)\n",
       "   173                                                   else:\n",
       "   174        81      21599.0    266.7     24.7              libs_after[sq_c] = go.get_stone_lib(go.place_stone(color, game.board, sq_c), sq_c) \n",
       "   175                                                       \n",
       "   176         1         60.0     60.0      0.1      libs_after = libs_after.reshape(9,9)\n",
       "   177         1         37.0     37.0      0.0      caps = caps.reshape(9,9)\n",
       "   178         1         37.0     37.0      0.0      legal = legal.reshape(1,9,9)\n",
       "   179         2       1881.0    940.5      2.2      fts = np.vstack( [plyr, oppt, empty, turn, last_mv, legal,\\\n",
       "   180         1       3631.0   3631.0      4.2              separate(libs) , separate(libs_after) , separate(caps)])\n",
       "   181         1       1235.0   1235.0      1.4      return torch.from_numpy(fts).float()"
      ]
     },
     "metadata": {},
     "output_type": "display_data"
    }
   ],
   "source": [
    "%lprun -f features features(board)"
   ]
  },
  {
   "cell_type": "code",
   "execution_count": 5,
   "metadata": {},
   "outputs": [
    {
     "data": {
      "text/plain": [
       "Timer unit: 1e-07 s\n",
       "\n",
       "Total time: 92.8527 s\n",
       "File: C:\\Users\\kyles\\Documents\\GitHub\\BokeGo\\python\\mcts.py\n",
       "Function: do_rollout at line 52\n",
       "\n",
       "Line #      Hits         Time  Per Hit   % Time  Line Contents\n",
       "==============================================================\n",
       "    52                                               def do_rollout(self, node, n = 1):\n",
       "    53                                                   \"Train for n iterations\"\n",
       "    54       101       1215.0     12.0      0.0          for _ in range(n):\n",
       "    55                                                       # Get path to leaf of current search tree\n",
       "    56       100    3598828.0  35988.3      0.4              path = self._descend(node)\n",
       "    57       100       1976.0     19.8      0.0              leaf = path[-1]\n",
       "    58       100        957.0      9.6      0.0              if leaf.features is None:\n",
       "    59        13     765262.0  58866.3      0.1                  leaf.set_features()\n",
       "    60       100       1313.0     13.1      0.0              if not leaf.value:\n",
       "    61        13     748636.0  57587.4      0.1                  leaf.set_value(self.value_net)\n",
       "    62                                                       # Get result of rollout starting from leaf\n",
       "    63       100  923354981.0 9233549.8     99.4              score = self._simulate(leaf)\n",
       "    64       100      54051.0    540.5      0.0              self._backpropagate(path, score, leaf.value)"
      ]
     },
     "metadata": {},
     "output_type": "display_data"
    }
   ],
   "source": [
    "%lprun -f tree.do_rollout tree.do_rollout(board, 100)"
   ]
  },
  {
   "cell_type": "code",
   "execution_count": 6,
   "metadata": {},
   "outputs": [
    {
     "data": {
      "text/plain": [
       "Timer unit: 1e-07 s\n",
       "\n",
       "Total time: 0.893051 s\n",
       "File: C:\\Users\\kyles\\Documents\\GitHub\\BokeGo\\python\\mcts.py\n",
       "Function: _simulate at line 88\n",
       "\n",
       "Line #      Hits         Time  Per Hit   % Time  Line Contents\n",
       "==============================================================\n",
       "    88                                               def _simulate(self, node):\n",
       "    89                                                   \"Returns the reward for a random simulation (to completion) of `node`\"\n",
       "    90         1         28.0     28.0      0.0          invert_reward = not node.color\n",
       "    91                                                   while True:\n",
       "    92        72       1824.0     25.3      0.0              if node.terminal:\n",
       "    93         1       3963.0   3963.0      0.0                  reward = node.reward()\n",
       "    94         1         20.0     20.0      0.0                  reward = invert_reward^reward\n",
       "    95         1          3.0      3.0      0.0                  return reward\n",
       "    96        71    8924676.0 125699.7     99.9              node = node.find_random_child(self.policy_net)"
      ]
     },
     "metadata": {},
     "output_type": "display_data"
    }
   ],
   "source": [
    "%lprun -f tree._simulate tree._simulate(board)"
   ]
  },
  {
   "cell_type": "code",
   "execution_count": 7,
   "metadata": {},
   "outputs": [
    {
     "name": "stdout",
     "output_type": "stream",
     "text": [
      "556 ms ± 27.7 ms per loop (mean ± std. dev. of 7 runs, 1 loop each)\n"
     ]
    }
   ],
   "source": [
    "%timeit tree._simulate(board)"
   ]
  },
  {
   "cell_type": "code",
   "execution_count": 8,
   "metadata": {},
   "outputs": [
    {
     "data": {
      "text/plain": [
       "Timer unit: 1e-07 s\n",
       "\n",
       "Total time: 0.0004061 s\n",
       "File: C:\\Users\\kyles\\Documents\\GitHub\\BokeGo\\python\\mcts.py\n",
       "Function: find_random_child at line 169\n",
       "\n",
       "Line #      Hits         Time  Per Hit   % Time  Line Contents\n",
       "==============================================================\n",
       "   169                                               def find_random_child(self, policy: PolicyNet):\n",
       "   170                                                   '''Draws legal move from distribution given by policy. If no\n",
       "   171                                                   policy is given, a legal move is drawn uniformly.\n",
       "   172                                                   Returns a copy of the board (Go_MCTS object) after the move has\n",
       "   173                                                   been played.'''\n",
       "   174         1         71.0     71.0      1.7          if self.terminal:\n",
       "   175                                                       return self # Game is over; no moves can be made\n",
       "   176         1       3990.0   3990.0     98.3          return self.make_move(self.get_move(policy))"
      ]
     },
     "metadata": {},
     "output_type": "display_data"
    }
   ],
   "source": [
    "%lprun -f board.find_random_child board.find_random_child(pi)"
   ]
  },
  {
   "cell_type": "code",
   "execution_count": 9,
   "metadata": {},
   "outputs": [
    {
     "data": {
      "text/plain": [
       "Timer unit: 1e-07 s\n",
       "\n",
       "Total time: 0.0027167 s\n",
       "File: C:\\Users\\kyles\\Documents\\GitHub\\BokeGo\\python\\mcts.py\n",
       "Function: _descend at line 66\n",
       "\n",
       "Line #      Hits         Time  Per Hit   % Time  Line Contents\n",
       "==============================================================\n",
       "    66                                               def _descend(self, node):\n",
       "    67                                                   \"Return a path from root down to leaf via PUCT selection\"\n",
       "    68                                                   # Start at root (current position)\n",
       "    69         1         19.0     19.0      0.1          path = [node]\n",
       "    70                                                   while True:\n",
       "    71                                                       # Is node a leaf?\n",
       "    72         2        169.0     84.5      0.6              if node not in self.children or not self.children[node]:\n",
       "    73                                                           # Heuristic: if node is \"promising\" (i.e. large # of visits),\n",
       "    74                                                           # expand search tree to include node's children\n",
       "    75         1         33.0     33.0      0.1                  if self.N[node] > EXPAND_THRESH:\n",
       "    76                                                               self._expand(node)\n",
       "    77         1          6.0      6.0      0.0                  return path\n",
       "    78         1      26906.0  26906.0     99.0              node = self._puct_select(node)  # descend a layer deeper\n",
       "    79         1         34.0     34.0      0.1              path.append(node)"
      ]
     },
     "metadata": {},
     "output_type": "display_data"
    }
   ],
   "source": [
    "%lprun -f tree._descend tree._descend(board)"
   ]
  },
  {
   "cell_type": "code",
   "execution_count": 10,
   "metadata": {},
   "outputs": [
    {
     "name": "stdout",
     "output_type": "stream",
     "text": [
      "795 µs ± 37.9 µs per loop (mean ± std. dev. of 7 runs, 1000 loops each)\n"
     ]
    }
   ],
   "source": [
    "%timeit tree._descend(board)"
   ]
  },
  {
   "cell_type": "code",
   "execution_count": 11,
   "metadata": {},
   "outputs": [
    {
     "data": {
      "text/plain": [
       "Timer unit: 1e-07 s\n",
       "\n",
       "Total time: 0.0024685 s\n",
       "File: C:\\Users\\kyles\\Documents\\GitHub\\BokeGo\\python\\mcts.py\n",
       "Function: _puct_select at line 106\n",
       "\n",
       "Line #      Hits         Time  Per Hit   % Time  Line Contents\n",
       "==============================================================\n",
       "   106                                               def _puct_select(self, node):\n",
       "   107                                                   \"Select a child of node with PUCT\"\n",
       "   108                                           \n",
       "   109                                                   # Predictor + UCT (PUCT) variant used in AlphaGo\n",
       "   110         1       2357.0   2357.0      9.5          total_visits = sum(self.N[n] for n in self.children[node])\n",
       "   111                                                   # First visit selects policy's top choice\n",
       "   112         1         19.0     19.0      0.1          if total_visits == 0:\n",
       "   113                                                       total_visits = 1\n",
       "   114         1         15.0     15.0      0.1          if not node.dist:\n",
       "   115                                                       node.set_dist(self.policy_net)\n",
       "   116         1         14.0     14.0      0.1          def puct(n):\n",
       "   117                                                       last_move_prob = node.dist.probs[n.last_move].item()\n",
       "   118                                                       avg_reward = 0 if self.N[n] == 0 else ((1 - self.value_net_weight) * self.Q[n]\n",
       "   119                                                                                               + self.value_net_weight * self.V[n]) / self.N[n]\n",
       "   120                                                       return avg_reward + (self.exploration_weight\n",
       "   121                                                               * last_move_prob \n",
       "   122                                                               * math.sqrt(total_visits) / (1 + self.N[n]))\n",
       "   123                                           \n",
       "   124         1      22280.0  22280.0     90.3          return max(self.children[node], key=puct)"
      ]
     },
     "metadata": {},
     "output_type": "display_data"
    }
   ],
   "source": [
    "%lprun -f tree._puct_select tree._puct_select(board)"
   ]
  },
  {
   "cell_type": "code",
   "execution_count": 12,
   "metadata": {},
   "outputs": [
    {
     "name": "stdout",
     "output_type": "stream",
     "text": [
      "775 µs ± 26.9 µs per loop (mean ± std. dev. of 7 runs, 1000 loops each)\n"
     ]
    }
   ],
   "source": [
    "%timeit tree._puct_select(board)"
   ]
  },
  {
   "cell_type": "code",
   "execution_count": 13,
   "metadata": {},
   "outputs": [
    {
     "name": "stdout",
     "output_type": "stream",
     "text": [
      "53.1 µs ± 1.65 µs per loop (mean ± std. dev. of 7 runs, 10000 loops each)\n"
     ]
    }
   ],
   "source": [
    "%timeit board.make_move(board.get_move(pi))"
   ]
  },
  {
   "cell_type": "code",
   "execution_count": 14,
   "metadata": {},
   "outputs": [
    {
     "data": {
      "text/plain": [
       "Timer unit: 1e-07 s\n",
       "\n",
       "Total time: 0.0073043 s\n",
       "File: C:\\Users\\kyles\\Documents\\GitHub\\BokeGo\\python\\bokeNet.py\n",
       "Function: policy_dist at line 190\n",
       "\n",
       "Line #      Hits         Time  Per Hit   % Time  Line Contents\n",
       "==============================================================\n",
       "   190                                           def policy_dist(policy: PolicyNet,\n",
       "   191                                                           game: go.Game,\n",
       "   192                                                           device = torch.device(\"cpu\"),\n",
       "   193                                                           fts: torch.Tensor=None):\n",
       "   194                                               '''Return torch.distribution.Categorial distribution over coordinates'''\n",
       "   195         1         13.0     13.0      0.0      if fts is None:\n",
       "   196                                                   fts = features(game)\n",
       "   197         1       1820.0   1820.0      2.5      fts = fts.unsqueeze(0).to(device)\n",
       "   198         1      70466.0  70466.0     96.5      probs = SOFT(policy(fts)).squeeze(0)\n",
       "   199         1        735.0    735.0      1.0      dist = Categorical(probs)\n",
       "   200         1          9.0      9.0      0.0      return dist"
      ]
     },
     "metadata": {},
     "output_type": "display_data"
    }
   ],
   "source": [
    "%lprun -f policy_dist policy_dist(pi, board, fts=board.features)"
   ]
  },
  {
   "cell_type": "code",
   "execution_count": 15,
   "metadata": {},
   "outputs": [
    {
     "name": "stdout",
     "output_type": "stream",
     "text": [
      "4.69 ms ± 297 µs per loop (mean ± std. dev. of 7 runs, 100 loops each)\n"
     ]
    }
   ],
   "source": [
    "%timeit policy_dist(pi, board, fts=board.features)"
   ]
  },
  {
   "cell_type": "code",
   "execution_count": 16,
   "metadata": {},
   "outputs": [
    {
     "data": {
      "text/plain": [
       "Timer unit: 1e-07 s\n",
       "\n",
       "Total time: 0.0061317 s\n",
       "File: C:\\Users\\kyles\\Documents\\GitHub\\BokeGo\\python\\bokeNet.py\n",
       "Function: value at line 202\n",
       "\n",
       "Line #      Hits         Time  Per Hit   % Time  Line Contents\n",
       "==============================================================\n",
       "   202                                           def value(v: ValueNet,\n",
       "   203                                                     game: go.Game,\n",
       "   204                                                     device = torch.device(\"cpu\"),\n",
       "   205                                                     fts: torch.Tensor=None):\n",
       "   206         1         19.0     19.0      0.0      if fts is None:\n",
       "   207                                                   fts = features(game)\n",
       "   208         1        919.0    919.0      1.5      fts = fts.unsqueeze(0).to(device)\n",
       "   209         1      60379.0  60379.0     98.5      return v(fts).item()"
      ]
     },
     "metadata": {},
     "output_type": "display_data"
    }
   ],
   "source": [
    "%lprun -f value value(val, board, fts=board.features)"
   ]
  },
  {
   "cell_type": "code",
   "execution_count": 17,
   "metadata": {},
   "outputs": [
    {
     "name": "stdout",
     "output_type": "stream",
     "text": [
      "4.7 ms ± 276 µs per loop (mean ± std. dev. of 7 runs, 100 loops each)\n"
     ]
    }
   ],
   "source": [
    "%timeit value(val, board, fts=board.features)"
   ]
  },
  {
   "cell_type": "code",
   "execution_count": 18,
   "metadata": {},
   "outputs": [
    {
     "name": "stdout",
     "output_type": "stream",
     "text": [
      "35.6 µs ± 1.86 µs per loop (mean ± std. dev. of 7 runs, 10000 loops each)\n"
     ]
    }
   ],
   "source": [
    "%timeit board.get_move(pi)"
   ]
  },
  {
   "cell_type": "code",
   "execution_count": 19,
   "metadata": {},
   "outputs": [
    {
     "data": {
      "text/plain": [
       "Timer unit: 1e-07 s\n",
       "\n",
       "Total time: 0.0007121 s\n",
       "File: C:\\Users\\kyles\\Documents\\GitHub\\BokeGo\\python\\mcts.py\n",
       "Function: get_move at line 198\n",
       "\n",
       "Line #      Hits         Time  Per Hit   % Time  Line Contents\n",
       "==============================================================\n",
       "   198                                               def get_move(self, policy: PolicyNet):\n",
       "   199         1       6377.0   6377.0     89.6          move = self.dist_sample(policy)\n",
       "   200         1        737.0    737.0     10.3          while not self.is_legal(move):\n",
       "   201                                                       move = self.dist_sample(policy) \n",
       "   202         1          7.0      7.0      0.1          return move"
      ]
     },
     "metadata": {},
     "output_type": "display_data"
    }
   ],
   "source": [
    "%lprun -f board.get_move board.get_move(pi)"
   ]
  },
  {
   "cell_type": "code",
   "execution_count": 21,
   "metadata": {},
   "outputs": [
    {
     "name": "stdout",
     "output_type": "stream",
     "text": [
      "24.9 µs ± 1.71 µs per loop (mean ± std. dev. of 7 runs, 10000 loops each)\n"
     ]
    }
   ],
   "source": [
    "%timeit board.dist_sample(pi)"
   ]
  },
  {
   "cell_type": "code",
   "execution_count": 23,
   "metadata": {},
   "outputs": [
    {
     "data": {
      "text/plain": [
       "Timer unit: 1e-07 s\n",
       "\n",
       "Total time: 0.0008179 s\n",
       "File: C:\\Users\\kyles\\Documents\\GitHub\\BokeGo\\python\\mcts.py\n",
       "Function: dist_sample at line 215\n",
       "\n",
       "Line #      Hits         Time  Per Hit   % Time  Line Contents\n",
       "==============================================================\n",
       "   215                                               def dist_sample(self, policy: PolicyNet):\n",
       "   216                                                   '''Sample a move from the policy distribution'''\n",
       "   217         1         19.0     19.0      0.2          if not self.dist:\n",
       "   218                                                       self.set_dist(policy)\n",
       "   219         1       8160.0   8160.0     99.8          return self.dist.sample().item()"
      ]
     },
     "metadata": {},
     "output_type": "display_data"
    }
   ],
   "source": [
    "%lprun -f board.dist_sample board.dist_sample(pi)"
   ]
  },
  {
   "cell_type": "code",
   "execution_count": 24,
   "metadata": {},
   "outputs": [
    {
     "name": "stdout",
     "output_type": "stream",
     "text": [
      "25.2 µs ± 3.09 µs per loop (mean ± std. dev. of 7 runs, 10000 loops each)\n"
     ]
    }
   ],
   "source": [
    "%timeit board.dist.sample().item()"
   ]
  },
  {
   "cell_type": "code",
   "execution_count": 25,
   "metadata": {},
   "outputs": [
    {
     "data": {
      "text/plain": [
       "Timer unit: 1e-07 s\n",
       "\n",
       "Total time: 0.0006583 s\n",
       "File: C:\\Users\\kyles\\Anaconda3\\envs\\finance\\lib\\site-packages\\torch\\distributions\\categorical.py\n",
       "Function: sample at line 103\n",
       "\n",
       "Line #      Hits         Time  Per Hit   % Time  Line Contents\n",
       "==============================================================\n",
       "   103                                               def sample(self, sample_shape=torch.Size()):\n",
       "   104         1         50.0     50.0      0.8          if not isinstance(sample_shape, torch.Size):\n",
       "   105                                                       sample_shape = torch.Size(sample_shape)\n",
       "   106         1       3856.0   3856.0     58.6          probs_2d = self.probs.reshape(-1, self._num_events)\n",
       "   107         1       1068.0   1068.0     16.2          samples_2d = torch.multinomial(probs_2d, sample_shape.numel(), True).T\n",
       "   108         1       1609.0   1609.0     24.4          return samples_2d.reshape(self._extended_shape(sample_shape))"
      ]
     },
     "metadata": {},
     "output_type": "display_data"
    }
   ],
   "source": [
    "%lprun -f board.dist.sample board.dist.sample()"
   ]
  },
  {
   "cell_type": "code",
   "execution_count": 20,
   "metadata": {},
   "outputs": [
    {
     "ename": "SyntaxError",
     "evalue": "invalid character in identifier (<ipython-input-20-029973daa165>, line 3)",
     "output_type": "error",
     "traceback": [
      "\u001b[1;36m  File \u001b[1;32m\"<ipython-input-20-029973daa165>\"\u001b[1;36m, line \u001b[1;32m3\u001b[0m\n\u001b[1;33m    a = np.ones((1,9,9†))\u001b[0m\n\u001b[1;37m                      ^\u001b[0m\n\u001b[1;31mSyntaxError\u001b[0m\u001b[1;31m:\u001b[0m invalid character in identifier\n"
     ]
    }
   ],
   "source": [
    "import numpy as np\n",
    "\n",
    "a = np.ones((1,9,9†))\n",
    "b = np.zeros((7,9,9))\n",
    "b"
   ]
  },
  {
   "cell_type": "code",
   "execution_count": null,
   "metadata": {},
   "outputs": [],
   "source": [
    "np.vstack([a,a,a,a,a,b, b]).shape"
   ]
  },
  {
   "cell_type": "code",
   "execution_count": null,
   "metadata": {},
   "outputs": [],
   "source": [
    "import torch\n",
    "from bokePolicy import ValueNet\n",
    "a = torch.zeros(1,27,9,9)\n",
    "v = ValueNet()\n",
    "v(a)"
   ]
  },
  {
   "cell_type": "code",
   "execution_count": null,
   "metadata": {},
   "outputs": [],
   "source": [
    "import pandas as pd\n",
    "from torch.utils.data import DataLoader\n",
    "from torch.nn import MSELoss\n",
    "from bokeNet import NinebyNineGames, ValueNet, PolicyNet\n",
    "data = NinebyNineGames(\"../data/hval.csv\")\n",
    "dataloader = DataLoader(data, batch_size = 16, shuffle = True)\n"
   ]
  },
  {
   "cell_type": "code",
   "execution_count": null,
   "metadata": {},
   "outputs": [],
   "source": [
    "ft, res = data[100]\n",
    "v = ValueNet()\n",
    "pi = PolicyNet()\n",
    "v(ft.unsqueeze(0))"
   ]
  },
  {
   "cell_type": "code",
   "execution_count": null,
   "metadata": {},
   "outputs": [],
   "source": [
    "v = ValueNet()\n",
    "\n",
    "loss = MSELoss()\n",
    "for i, data in enumerate(dataloader, 0):\n",
    "    inputs, res = data\n",
    "    break\n",
    "print(res)\n",
    "loss(v(inputs), res.unsqueeze(1))\n"
   ]
  },
  {
   "cell_type": "code",
   "execution_count": null,
   "metadata": {},
   "outputs": [],
   "source": [
    "v(inputs).view(32)"
   ]
  },
  {
   "cell_type": "code",
   "execution_count": null,
   "metadata": {},
   "outputs": [],
   "source": [
    "x = v.conv(inputs)\n",
    "x = x.view(-1, 128*9*9)\n",
    "x = v.lin1(x)\n",
    "v.tanh(x).view(-1)"
   ]
  },
  {
   "cell_type": "code",
   "execution_count": null,
   "metadata": {},
   "outputs": [],
   "source": []
  }
 ],
 "metadata": {
  "kernelspec": {
   "display_name": "Python 3",
   "language": "python",
   "name": "python3"
  },
  "language_info": {
   "codemirror_mode": {
    "name": "ipython",
    "version": 3
   },
   "file_extension": ".py",
   "mimetype": "text/x-python",
   "name": "python",
   "nbconvert_exporter": "python",
   "pygments_lexer": "ipython3",
   "version": "3.8.5"
  }
 },
 "nbformat": 4,
 "nbformat_minor": 4
}
