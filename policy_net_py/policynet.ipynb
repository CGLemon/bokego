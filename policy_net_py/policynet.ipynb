{
 "cells": [
  {
   "cell_type": "code",
   "execution_count": 1,
   "metadata": {
    "scrolled": true
   },
   "outputs": [],
   "source": [
    "import matplotlib.pyplot as plt\n",
    "from tqdm import tqdm, trange\n",
    "import torch\n",
    "import torch.nn as nn\n",
    "from torch.utils.data import DataLoader\n",
    "from bokePolicy import PolicyNet, NinebyNineGames, policy_predict, features, SCALE\n",
    "import go\n",
    "%matplotlib inline"
   ]
  },
  {
   "cell_type": "code",
   "execution_count": 2,
   "metadata": {},
   "outputs": [],
   "source": [
    "data_reg = NinebyNineGames(path = r\"/home/meiji163/Documents/BokeGo/data/boards.csv\", scale = SCALE)"
   ]
  },
  {
   "cell_type": "code",
   "execution_count": 5,
   "metadata": {},
   "outputs": [
    {
     "data": {
      "text/plain": [
       "(tensor([[[0., 0., 0., 0., 0., 0., 0., 0., 0.],\n",
       "          [0., 0., 0., 0., 0., 0., 0., 0., 0.],\n",
       "          [0., 0., 0., 0., 0., 0., 0., 0., 0.],\n",
       "          [0., 0., 0., 0., 0., 0., 0., 0., 0.],\n",
       "          [0., 0., 0., 0., 0., 1., 0., 0., 0.],\n",
       "          [0., 0., 0., 0., 0., 0., 0., 0., 0.],\n",
       "          [0., 0., 0., 0., 0., 0., 0., 0., 0.],\n",
       "          [0., 0., 0., 0., 0., 0., 0., 0., 0.],\n",
       "          [0., 0., 0., 0., 0., 0., 0., 0., 0.]],\n",
       " \n",
       "         [[0., 0., 0., 0., 0., 0., 0., 0., 0.],\n",
       "          [0., 0., 0., 0., 0., 0., 0., 0., 0.],\n",
       "          [0., 0., 0., 0., 0., 0., 0., 0., 0.],\n",
       "          [0., 0., 0., 0., 0., 0., 0., 0., 0.],\n",
       "          [0., 0., 0., 0., 0., 0., 0., 0., 0.],\n",
       "          [0., 0., 1., 0., 0., 0., 0., 0., 0.],\n",
       "          [0., 0., 0., 0., 0., 0., 0., 0., 0.],\n",
       "          [0., 0., 0., 0., 0., 0., 0., 0., 0.],\n",
       "          [0., 0., 0., 0., 0., 0., 0., 0., 0.]],\n",
       " \n",
       "         [[2., 2., 2., 2., 2., 2., 2., 2., 2.],\n",
       "          [2., 2., 2., 2., 2., 2., 2., 2., 2.],\n",
       "          [2., 2., 2., 2., 2., 2., 2., 2., 2.],\n",
       "          [2., 2., 2., 2., 2., 2., 2., 2., 2.],\n",
       "          [2., 2., 2., 2., 2., 0., 2., 2., 2.],\n",
       "          [2., 2., 0., 2., 2., 2., 2., 2., 2.],\n",
       "          [2., 2., 2., 2., 2., 2., 2., 2., 2.],\n",
       "          [2., 2., 2., 2., 2., 2., 2., 2., 2.],\n",
       "          [2., 2., 2., 2., 2., 2., 2., 2., 2.]],\n",
       " \n",
       "         [[0., 0., 0., 0., 0., 0., 0., 0., 0.],\n",
       "          [0., 0., 0., 0., 0., 0., 0., 0., 0.],\n",
       "          [0., 0., 0., 0., 0., 0., 0., 0., 0.],\n",
       "          [0., 0., 0., 0., 0., 0., 0., 0., 0.],\n",
       "          [0., 0., 0., 0., 0., 0., 0., 0., 0.],\n",
       "          [0., 0., 0., 0., 0., 0., 0., 0., 0.],\n",
       "          [0., 0., 0., 0., 0., 0., 0., 0., 0.],\n",
       "          [0., 0., 0., 0., 0., 0., 0., 0., 0.],\n",
       "          [0., 0., 0., 0., 0., 0., 0., 0., 0.]],\n",
       " \n",
       "         [[1., 1., 1., 1., 1., 1., 1., 1., 1.],\n",
       "          [1., 1., 1., 1., 1., 1., 1., 1., 1.],\n",
       "          [1., 1., 1., 1., 1., 1., 1., 1., 1.],\n",
       "          [1., 1., 1., 1., 1., 1., 1., 1., 1.],\n",
       "          [1., 1., 1., 1., 1., 0., 1., 1., 1.],\n",
       "          [1., 1., 0., 1., 1., 1., 1., 1., 1.],\n",
       "          [1., 1., 1., 1., 1., 1., 1., 1., 1.],\n",
       "          [1., 1., 1., 1., 1., 1., 1., 1., 1.],\n",
       "          [1., 1., 1., 1., 1., 1., 1., 1., 1.]],\n",
       " \n",
       "         [[0., 0., 0., 0., 0., 0., 0., 0., 0.],\n",
       "          [0., 0., 0., 0., 0., 0., 0., 0., 0.],\n",
       "          [0., 0., 0., 0., 0., 0., 0., 0., 0.],\n",
       "          [0., 0., 0., 0., 0., 0., 0., 0., 0.],\n",
       "          [0., 0., 0., 0., 0., 4., 0., 0., 0.],\n",
       "          [0., 0., 4., 0., 0., 0., 0., 0., 0.],\n",
       "          [0., 0., 0., 0., 0., 0., 0., 0., 0.],\n",
       "          [0., 0., 0., 0., 0., 0., 0., 0., 0.],\n",
       "          [0., 0., 0., 0., 0., 0., 0., 0., 0.]],\n",
       " \n",
       "         [[2., 3., 3., 3., 3., 3., 3., 3., 2.],\n",
       "          [3., 4., 4., 4., 4., 4., 4., 4., 3.],\n",
       "          [3., 4., 4., 4., 4., 4., 4., 4., 3.],\n",
       "          [3., 4., 4., 4., 4., 6., 4., 4., 3.],\n",
       "          [3., 4., 3., 4., 6., 4., 6., 4., 3.],\n",
       "          [3., 3., 4., 3., 4., 6., 4., 4., 3.],\n",
       "          [3., 4., 3., 4., 4., 4., 4., 4., 3.],\n",
       "          [3., 4., 4., 4., 4., 4., 4., 4., 3.],\n",
       "          [2., 3., 3., 3., 3., 3., 3., 3., 2.]]], dtype=torch.float64),\n",
       " 29)"
      ]
     },
     "execution_count": 5,
     "metadata": {},
     "output_type": "execute_result"
    }
   ],
   "source": [
    "data_reg[2]"
   ]
  },
  {
   "cell_type": "code",
   "execution_count": 3,
   "metadata": {},
   "outputs": [],
   "source": [
    "SCALE = 100\n",
    "data_ref = NinebyNineGames(path = r\"/home/meiji163/Documents/BokeGo/data/boards.csv\", transform = \"reflect\", scale = SCALE)\n",
    "data_rot = NinebyNineGames(path = r\"/home/meiji163/Documents/BokeGo/data/boards.csv\", transform = \"rot90\", scale = SCALE)\n",
    "\n",
    "pi = PolicyNet(scale = SCALE)"
   ]
  },
  {
   "cell_type": "code",
   "execution_count": null,
   "metadata": {},
   "outputs": [],
   "source": [
    "g = go.Game()\n",
    "features(g, transform = \"rot90\")"
   ]
  },
  {
   "cell_type": "code",
   "execution_count": 4,
   "metadata": {},
   "outputs": [
    {
     "name": "stdout",
     "output_type": "stream",
     "text": [
      "tensor([[  0,   0,   0,   0,   0,   0,   0,   0,   0],\n",
      "        [  0,   0,   0,   0,   0,   0,   0,   0,   0],\n",
      "        [  0,   0,   0,   0,   0,   0,   0,   0,   0],\n",
      "        [  0,   0, 100,   0,   0,   0,   0,   0,   0],\n",
      "        [  0,   0,   0,   0,   0, 100,   0,   0,   0],\n",
      "        [  0,   0,   0,   0,   0,   0,   0,   0,   0],\n",
      "        [  0,   0,   0,   0,   0, 100,   0,   0,   0],\n",
      "        [  0,   0,   0,   0,   0,   0,   0,   0,   0],\n",
      "        [  0,   0,   0,   0,   0,   0,   0,   0,   0]]) (2, 4)\n",
      "tensor([[  0,   0,   0,   0,   0,   0,   0,   0,   0],\n",
      "        [  0,   0,   0,   0,   0,   0,   0,   0,   0],\n",
      "        [  0,   0,   0, 100,   0,   0,   0,   0,   0],\n",
      "        [  0,   0,   0,   0,   0,   0,   0,   0,   0],\n",
      "        [  0,   0,   0,   0,   0,   0,   0,   0,   0],\n",
      "        [  0,   0,   0,   0, 100,   0, 100,   0,   0],\n",
      "        [  0,   0,   0,   0,   0,   0,   0,   0,   0],\n",
      "        [  0,   0,   0,   0,   0,   0,   0,   0,   0],\n",
      "        [  0,   0,   0,   0,   0,   0,   0,   0,   0]]) (4, 2)\n",
      "tensor([[  0,   0,   0,   0,   0,   0,   0,   0,   0],\n",
      "        [  0,   0,   0,   0,   0,   0,   0,   0,   0],\n",
      "        [  0,   0,   0,   0,   0, 100,   0,   0,   0],\n",
      "        [  0,   0,   0,   0,   0,   0,   0,   0,   0],\n",
      "        [  0,   0,   0,   0,   0,   0,   0,   0,   0],\n",
      "        [  0,   0, 100,   0, 100,   0,   0,   0,   0],\n",
      "        [  0,   0,   0,   0,   0,   0,   0,   0,   0],\n",
      "        [  0,   0,   0,   0,   0,   0,   0,   0,   0],\n",
      "        [  0,   0,   0,   0,   0,   0,   0,   0,   0]]) (4, 6)\n"
     ]
    }
   ],
   "source": [
    "print(data_reg[5][0][0], go.unsquash(data_reg[5][1]))\n",
    "print(data_ref[5][0][0], go.unsquash(data_ref[5][1]))\n",
    "print(data_rot[5][0][0], go.unsquash(data_rot[5][1]))"
   ]
  },
  {
   "cell_type": "code",
   "execution_count": null,
   "metadata": {},
   "outputs": [],
   "source": [
    "import numpy as np\n",
    "a = np.array([1,2,3,4]).reshape(2,2)\n",
    "b = np.array([5,6,7,8]).reshape(2,2)\n",
    "c = np.array([9,10,11,12]).reshape(2,2)\n",
    "d = np.array([13,14,15,16]).reshape(2,2)\n",
    "e = np.stack([a,b,c,d])\n",
    "np.rot90(e, k = 3, axes = (1,2))"
   ]
  },
  {
   "cell_type": "code",
   "execution_count": null,
   "metadata": {
    "scrolled": true
   },
   "outputs": [],
   "source": [
    "\n",
    "err = nn.CrossEntropyLoss()\n",
    "optimizer = torch.optim.Adam(pi.parameters(), lr = 0.01)\n",
    "checkpt = torch.load(r\"/home/jupyter/BokeGo/policy_train.pt\")"
   ]
  },
  {
   "cell_type": "code",
   "execution_count": null,
   "metadata": {
    "scrolled": true
   },
   "outputs": [],
   "source": [
    "pi.load_state_dict(checkpt[\"model_state_dict\"])\n",
    "pi.eval()"
   ]
  },
  {
   "cell_type": "code",
   "execution_count": null,
   "metadata": {},
   "outputs": [],
   "source": [
    "optimizer.load_state_dict(checkpt['optimizer_state_dict'])\n",
    "g = go.Game()\n",
    "g.play_move(40)\n",
    "probs, moves = policy_predict(pi, g, device = \"cuda\")\n",
    "probs"
   ]
  },
  {
   "cell_type": "code",
   "execution_count": null,
   "metadata": {},
   "outputs": [],
   "source": [
    "type([1,2]) == list"
   ]
  },
  {
   "cell_type": "code",
   "execution_count": null,
   "metadata": {},
   "outputs": [],
   "source": [
    "import numpy as np\n",
    "import go\n",
    "M = np.zeros((9,9))\n",
    "\n",
    "M[1,3] = 1\n",
    "M[3,4] =1\n",
    "M[5,6] = 1\n",
    "print(M)\n",
    "print(M.T)\n",
    "\n",
    "def rot90c(sq_c):\n",
    "    return (9*sq_c + 8 - sq_c//9)%81\n",
    "\n",
    "def reflect(sq_c):\n",
    "    x, y = divmod(sq_c, 9)\n",
    "    return 9*y + x\n",
    "\n",
    "for t in [(1,3),(3,4),(5,6)]:\n",
    "    sq_m = go.squash(t)\n",
    "    res = go.unsquash(reflect(sq_m))\n",
    "    print(res)\n",
    "    "
   ]
  },
  {
   "cell_type": "code",
   "execution_count": null,
   "metadata": {},
   "outputs": [],
   "source": [
    "print(go.unsquash(48))\n",
    "x, y = divmod(48, 9)\n",
    "go.unsquash(9*y+x) "
   ]
  },
  {
   "cell_type": "code",
   "execution_count": null,
   "metadata": {},
   "outputs": [],
   "source": []
  }
 ],
 "metadata": {
  "kernelspec": {
   "display_name": "Python 3",
   "language": "python",
   "name": "python3"
  },
  "language_info": {
   "codemirror_mode": {
    "name": "ipython",
    "version": 3
   },
   "file_extension": ".py",
   "mimetype": "text/x-python",
   "name": "python",
   "nbconvert_exporter": "python",
   "pygments_lexer": "ipython3",
   "version": "3.8.5"
  }
 },
 "nbformat": 4,
 "nbformat_minor": 4
}
