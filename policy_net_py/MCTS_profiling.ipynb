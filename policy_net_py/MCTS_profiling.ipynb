{
 "cells": [
  {
   "cell_type": "code",
   "execution_count": 1,
   "metadata": {},
   "outputs": [],
   "source": [
    "%load_ext line_profiler\n",
    "from go_mcts import Go_MCTS\n",
    "from mcts import MCTS\n",
    "from bokePolicy import PolicyNet\n",
    "import torch"
   ]
  },
  {
   "cell_type": "code",
   "execution_count": 2,
   "metadata": {},
   "outputs": [],
   "source": [
    "pi = PolicyNet()\n",
    "checkpt = torch.load(\"v0.5/RL_policy_3.pt\", map_location = torch.device(\"cpu\"))\n",
    "pi.load_state_dict(checkpt[\"model_state_dict\"])\n",
    "tree = MCTS()\n",
    "board = Go_MCTS(policy=pi)"
   ]
  },
  {
   "cell_type": "code",
   "execution_count": 3,
   "metadata": {},
   "outputs": [
    {
     "data": {
      "text/plain": [
       "Timer unit: 1e-07 s\n",
       "\n",
       "Total time: 395.027 s\n",
       "File: C:\\Users\\kyles\\Documents\\GitHub\\BokeGo\\policy_net_py\\mcts.py\n",
       "Function: do_rollout at line 44\n",
       "\n",
       "Line #      Hits         Time  Per Hit   % Time  Line Contents\n",
       "==============================================================\n",
       "    44                                               def do_rollout(self, node, n=1):\n",
       "    45                                                   \"Train for n iterations\"\n",
       "    46       101       1210.0     12.0      0.0          for i in range(n):\n",
       "    47                                                       # Get path to leaf of current search tree\n",
       "    48       100 2960442500.0 29604425.0     74.9              path = self._descend(node, i + 1)\n",
       "    49       100       3207.0     32.1      0.0              leaf = path[-1]\n",
       "    50                                                       # Get result of rollout starting from leaf\n",
       "    51       100  989780063.0 9897800.6     25.1              score = self._simulate(leaf)\n",
       "    52       100      40080.0    400.8      0.0              self._backpropagate(path, score)"
      ]
     },
     "metadata": {},
     "output_type": "display_data"
    }
   ],
   "source": [
    "%lprun -f tree.do_rollout tree.do_rollout(board, 100)"
   ]
  },
  {
   "cell_type": "code",
   "execution_count": 4,
   "metadata": {},
   "outputs": [
    {
     "data": {
      "text/plain": [
       "Timer unit: 1e-07 s\n",
       "\n",
       "Total time: 1.00367 s\n",
       "File: C:\\Users\\kyles\\Documents\\GitHub\\BokeGo\\policy_net_py\\mcts.py\n",
       "Function: _simulate at line 75\n",
       "\n",
       "Line #      Hits         Time  Per Hit   % Time  Line Contents\n",
       "==============================================================\n",
       "    75                                               def _simulate(self, node):\n",
       "    76                                                   \"Returns the reward for a random simulation (to completion) of `node`\"\n",
       "    77         1         25.0     25.0      0.0          invert_reward = not node.color\n",
       "    78                                                   while True:\n",
       "    79        72       2794.0     38.8      0.0              if node.is_terminal():\n",
       "    80         1       3012.0   3012.0      0.0                  reward = node.reward()\n",
       "    81         1         21.0     21.0      0.0                  reward = invert_reward^reward\n",
       "    82         1          4.0      4.0      0.0                  return reward\n",
       "    83        71   10030864.0 141279.8     99.9              node = node.find_random_child()"
      ]
     },
     "metadata": {},
     "output_type": "display_data"
    }
   ],
   "source": [
    "%lprun -f tree._simulate tree._simulate(board)"
   ]
  },
  {
   "cell_type": "code",
   "execution_count": 5,
   "metadata": {},
   "outputs": [
    {
     "name": "stdout",
     "output_type": "stream",
     "text": [
      "589 ms ± 18.2 ms per loop (mean ± std. dev. of 7 runs, 1 loop each)\n"
     ]
    }
   ],
   "source": [
    "%timeit tree._simulate(board)"
   ]
  },
  {
   "cell_type": "code",
   "execution_count": 6,
   "metadata": {},
   "outputs": [
    {
     "data": {
      "text/plain": [
       "Timer unit: 1e-07 s\n",
       "\n",
       "Total time: 0.0114244 s\n",
       "File: C:\\Users\\kyles\\Documents\\GitHub\\BokeGo\\policy_net_py\\go_mcts.py\n",
       "Function: find_random_child at line 53\n",
       "\n",
       "Line #      Hits         Time  Per Hit   % Time  Line Contents\n",
       "==============================================================\n",
       "    53                                               def find_random_child(self):\n",
       "    54                                                   '''Draws legal move from distribution given by policy. If no\n",
       "    55                                                   policy is given, a legal move is drawn uniformly.\n",
       "    56                                                   Returns a copy of the board (Go_MCTS object) after the move has\n",
       "    57                                                   been played.'''\n",
       "    58         1         19.0     19.0      0.0          if self.terminal:\n",
       "    59                                                       return self # Game is over; no moves can be made\n",
       "    60         1     114225.0 114225.0    100.0          return self.make_move(self.get_move())"
      ]
     },
     "metadata": {},
     "output_type": "display_data"
    }
   ],
   "source": [
    "%lprun -f board.find_random_child board.find_random_child()"
   ]
  },
  {
   "cell_type": "code",
   "execution_count": 7,
   "metadata": {},
   "outputs": [
    {
     "data": {
      "text/plain": [
       "Timer unit: 1e-07 s\n",
       "\n",
       "Total time: 6.92987 s\n",
       "File: C:\\Users\\kyles\\Documents\\GitHub\\BokeGo\\policy_net_py\\mcts.py\n",
       "Function: _descend at line 54\n",
       "\n",
       "Line #      Hits         Time  Per Hit   % Time  Line Contents\n",
       "==============================================================\n",
       "    54                                               def _descend(self, node, total_visits):\n",
       "    55                                                   \"Return a path from root down to leaf via PUCT selection\"\n",
       "    56                                                   # Start at root (current position)\n",
       "    57         1         27.0     27.0      0.0          path = [node]\n",
       "    58                                                   while True:\n",
       "    59                                                       # Is node a leaf?\n",
       "    60         9        478.0     53.1      0.0              if node not in self.children or not self.children[node]:\n",
       "    61                                                           # Heuristic: if node is \"promising\" (i.e. large # of visits),\n",
       "    62                                                           # expand search tree to include node's children\n",
       "    63         1         26.0     26.0      0.0                  if self.N[node] > EXPAND_THRESH:\n",
       "    64                                                               self._expand(node)\n",
       "    65         1          6.0      6.0      0.0                  return path\n",
       "    66         8   69297835.0 8662229.4    100.0              node = self._puct_select(node, total_visits)  # descend a layer deeper\n",
       "    67         8        330.0     41.2      0.0              path.append(node)"
      ]
     },
     "metadata": {},
     "output_type": "display_data"
    }
   ],
   "source": [
    "%lprun -f tree._descend tree._descend(board, 100)"
   ]
  },
  {
   "cell_type": "code",
   "execution_count": 8,
   "metadata": {},
   "outputs": [
    {
     "name": "stdout",
     "output_type": "stream",
     "text": [
      "4.39 s ± 121 ms per loop (mean ± std. dev. of 7 runs, 1 loop each)\n"
     ]
    }
   ],
   "source": [
    "%timeit tree._descend(board, 100)"
   ]
  },
  {
   "cell_type": "code",
   "execution_count": 9,
   "metadata": {},
   "outputs": [
    {
     "data": {
      "text/plain": [
       "Timer unit: 1e-07 s\n",
       "\n",
       "Total time: 0.801725 s\n",
       "File: C:\\Users\\kyles\\Documents\\GitHub\\BokeGo\\policy_net_py\\mcts.py\n",
       "Function: _puct_select at line 92\n",
       "\n",
       "Line #      Hits         Time  Per Hit   % Time  Line Contents\n",
       "==============================================================\n",
       "    92                                               def _puct_select(self, node, total_visits):\n",
       "    93                                                   \"Select a child of node with PUCT\"\n",
       "    94                                           \n",
       "    95                                                   # Predictor + UCT (PUCT) variant used in AlphaGo\n",
       "    96         1         32.0     32.0      0.0          def puct(n):\n",
       "    97                                                       avg_reward = 0 if self.N[n] == 0 else self.Q[n] / self.N[n]\n",
       "    98                                                       return avg_reward + (self.exploration_weight\n",
       "    99                                                               * n.get_move_prob(n.last_move)\n",
       "   100                                                               * math.sqrt(total_visits) / (1 + self.N[n]))\n",
       "   101                                           \n",
       "   102         1    8017215.0 8017215.0    100.0          return max(self.children[node], key=puct)"
      ]
     },
     "metadata": {},
     "output_type": "display_data"
    }
   ],
   "source": [
    "%lprun -f tree._puct_select tree._puct_select(board, 100)"
   ]
  },
  {
   "cell_type": "code",
   "execution_count": 10,
   "metadata": {},
   "outputs": [
    {
     "name": "stdout",
     "output_type": "stream",
     "text": [
      "533 ms ± 14.6 ms per loop (mean ± std. dev. of 7 runs, 1 loop each)\n"
     ]
    }
   ],
   "source": [
    "%timeit tree._puct_select(board, 100)"
   ]
  },
  {
   "cell_type": "code",
   "execution_count": 11,
   "metadata": {},
   "outputs": [
    {
     "name": "stdout",
     "output_type": "stream",
     "text": [
      "531 ns ± 28.7 ns per loop (mean ± std. dev. of 7 runs, 1000000 loops each)\n"
     ]
    }
   ],
   "source": [
    "%timeit board.get_move_prob(board.last_move)"
   ]
  },
  {
   "cell_type": "code",
   "execution_count": null,
   "metadata": {},
   "outputs": [],
   "source": []
  }
 ],
 "metadata": {
  "kernelspec": {
   "display_name": "Python (finance)",
   "language": "python",
   "name": "finance"
  },
  "language_info": {
   "codemirror_mode": {
    "name": "ipython",
    "version": 3
   },
   "file_extension": ".py",
   "mimetype": "text/x-python",
   "name": "python",
   "nbconvert_exporter": "python",
   "pygments_lexer": "ipython3",
   "version": "3.8.5"
  }
 },
 "nbformat": 4,
 "nbformat_minor": 4
}
