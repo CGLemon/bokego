{
 "cells": [
  {
   "cell_type": "code",
   "execution_count": 1,
   "metadata": {},
   "outputs": [],
   "source": [
    "%load_ext line_profiler\n",
    "from go_mcts import Go_MCTS\n",
    "from mcts import MCTS"
   ]
  },
  {
   "cell_type": "code",
   "execution_count": 2,
   "metadata": {},
   "outputs": [],
   "source": [
    "tree = MCTS()\n",
    "board = Go_MCTS()"
   ]
  },
  {
   "cell_type": "code",
   "execution_count": 3,
   "metadata": {},
   "outputs": [
    {
     "data": {
      "text/plain": [
       "Timer unit: 1e-07 s\n",
       "\n",
       "Total time: 1.09967 s\n",
       "File: C:\\Users\\kyles\\Personal_Projects\\code\\MCTS\\mcts.py\n",
       "Function: do_rollout at line 36\n",
       "\n",
       "Line #      Hits         Time  Per Hit   % Time  Line Contents\n",
       "==============================================================\n",
       "    36                                               def do_rollout(self, node):\n",
       "    37                                                   \"Make the tree one layer better. (Train for one iteration.)\"\n",
       "    38         1        126.0    126.0      0.0          path = self._select(node)\n",
       "    39         1         13.0     13.0      0.0          leaf = path[-1]\n",
       "    40         1    1623483.0 1623483.0     14.8          self._expand(leaf)\n",
       "    41         1    9372889.0 9372889.0     85.2          reward = self._simulate(leaf)\n",
       "    42         1        156.0    156.0      0.0          self._backpropagate(path, reward)"
      ]
     },
     "metadata": {},
     "output_type": "display_data"
    }
   ],
   "source": [
    "%lprun -f tree.do_rollout tree.do_rollout(board)"
   ]
  },
  {
   "cell_type": "code",
   "execution_count": 4,
   "metadata": {},
   "outputs": [
    {
     "data": {
      "text/plain": [
       "Timer unit: 1e-07 s\n",
       "\n",
       "Total time: 1.11473 s\n",
       "File: C:\\Users\\kyles\\Personal_Projects\\code\\MCTS\\mcts.py\n",
       "Function: _simulate at line 65\n",
       "\n",
       "Line #      Hits         Time  Per Hit   % Time  Line Contents\n",
       "==============================================================\n",
       "    65                                               def _simulate(self, node):\n",
       "    66                                                   \"Returns the reward for a random simulation (to completion) of `node`\"\n",
       "    67         1         14.0     14.0      0.0          invert_reward = True\n",
       "    68                                                   while True:\n",
       "    69       152       2363.0     15.5      0.0              if node.is_terminal():\n",
       "    70         1         29.0     29.0      0.0                  reward = node.reward()\n",
       "    71         1          4.0      4.0      0.0                  return 1 - reward if invert_reward else reward\n",
       "    72       151   11142419.0  73790.9    100.0              node = node.find_random_child()\n",
       "    73       151       2500.0     16.6      0.0              invert_reward = not invert_reward"
      ]
     },
     "metadata": {},
     "output_type": "display_data"
    }
   ],
   "source": [
    "%lprun -f tree._simulate tree._simulate(board)"
   ]
  },
  {
   "cell_type": "code",
   "execution_count": 5,
   "metadata": {},
   "outputs": [
    {
     "data": {
      "text/plain": [
       "Timer unit: 1e-07 s\n",
       "\n",
       "Total time: 0.0073547 s\n",
       "File: C:\\Users\\kyles\\Personal_Projects\\code\\MCTS\\go_mcts.py\n",
       "Function: find_random_child at line 48\n",
       "\n",
       "Line #      Hits         Time  Per Hit   % Time  Line Contents\n",
       "==============================================================\n",
       "    48                                               def find_random_child(self):\n",
       "    49                                                   '''Draws legal move from distribution given by policy. If no\n",
       "    50                                                   policy is given, a legal move is drawn uniformly.\n",
       "    51                                                   Returns a copy of the board (Go_MCTS object) after the move has\n",
       "    52                                                   been played.'''\n",
       "    53         1         21.0     21.0      0.0          if self.terminal:\n",
       "    54                                                       return self # Game is over; no moves can be made\n",
       "    55         1         35.0     35.0      0.0          if self.policy:\n",
       "    56                                                       move = policy_predict(self.policy, self) # NEEDS TO BE FIXED\n",
       "    57                                                   else:\n",
       "    58         1      36325.0  36325.0     49.4              move = choice(self.get_legal_moves())  \n",
       "    59         1      37166.0  37166.0     50.5          return self.make_move(move)"
      ]
     },
     "metadata": {},
     "output_type": "display_data"
    }
   ],
   "source": [
    "%lprun -f board.find_random_child board.find_random_child()"
   ]
  },
  {
   "cell_type": "code",
   "execution_count": 6,
   "metadata": {},
   "outputs": [
    {
     "data": {
      "text/plain": [
       "Timer unit: 1e-07 s\n",
       "\n",
       "Total time: 0.0028787 s\n",
       "File: C:\\Users\\kyles\\Personal_Projects\\code\\MCTS\\go_mcts.py\n",
       "Function: make_move at line 68\n",
       "\n",
       "Line #      Hits         Time  Per Hit   % Time  Line Contents\n",
       "==============================================================\n",
       "    68                                               def make_move(self, index):\n",
       "    69                                                   '''Returns a copy of the board (Go_MCTS object) after the move\n",
       "    70                                                   given by index has been played.'''\n",
       "    71         1        313.0    313.0      1.1          game_copy = copy(self)\n",
       "    72         1        710.0    710.0      2.5          game_copy.play_move(index)\n",
       "    73                                                   # It's now the other player's turn\n",
       "    74         1         17.0     17.0      0.1          game_copy.color = not self.color\n",
       "    75                                                   # Check if the move ended the game\n",
       "    76         1      27717.0  27717.0     96.3          game_copy.terminal = game_copy.is_game_over()\n",
       "    77         1         30.0     30.0      0.1          return game_copy"
      ]
     },
     "metadata": {},
     "output_type": "display_data"
    }
   ],
   "source": [
    "%lprun -f board.make_move board.make_move(50)"
   ]
  }
 ],
 "metadata": {
  "kernelspec": {
   "display_name": "Python (finance)",
   "language": "python",
   "name": "finance"
  },
  "language_info": {
   "codemirror_mode": {
    "name": "ipython",
    "version": 3
   },
   "file_extension": ".py",
   "mimetype": "text/x-python",
   "name": "python",
   "nbconvert_exporter": "python",
   "pygments_lexer": "ipython3",
   "version": "3.8.5"
  }
 },
 "nbformat": 4,
 "nbformat_minor": 4
}
