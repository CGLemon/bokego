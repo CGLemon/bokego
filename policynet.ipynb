{
 "cells": [
  {
   "cell_type": "code",
   "execution_count": 1,
   "metadata": {
    "scrolled": true
   },
   "outputs": [],
   "source": [
    "import matplotlib.pyplot as plt\n",
    "from tqdm import tqdm, trange\n",
    "import torch\n",
    "import torch.nn as nn\n",
    "from torch.utils.data import DataLoader\n",
    "from bokePolicy import PolicyNet, NinebyNineGames\n",
    "%matplotlib inline"
   ]
  },
  {
   "cell_type": "code",
   "execution_count": 4,
   "metadata": {
    "scrolled": true
   },
   "outputs": [],
   "source": [
    "data = NinebyNineGames(\"boards.csv\", scale = 100)\n",
    "dataloader = DataLoader(data, batch_size = 32, shuffle = True)\n",
    "\n",
    "pi = PolicyNet()\n",
    "err = nn.CrossEntropyLoss()\n",
    "optimizer = torch.optim.Adam(pi.parameters(), lr = 0.001)"
   ]
  },
  {
   "cell_type": "code",
   "execution_count": 3,
   "metadata": {},
   "outputs": [
    {
     "data": {
      "text/plain": [
       "(tensor([[[0., 0., 0., 0., 0., 0., 0., 0., 0.],\n",
       "          [0., 0., 0., 0., 0., 0., 0., 0., 0.],\n",
       "          [0., 0., 0., 0., 0., 0., 0., 0., 0.],\n",
       "          [0., 0., 0., 0., 0., 0., 0., 0., 0.],\n",
       "          [0., 0., 0., 0., 0., 0., 0., 0., 0.],\n",
       "          [0., 0., 0., 0., 0., 0., 0., 0., 0.],\n",
       "          [0., 0., 0., 0., 0., 0., 0., 0., 0.],\n",
       "          [0., 0., 0., 0., 0., 0., 0., 0., 0.],\n",
       "          [0., 0., 0., 0., 0., 0., 0., 0., 0.]],\n",
       " \n",
       "         [[0., 0., 0., 0., 0., 0., 0., 0., 0.],\n",
       "          [0., 0., 0., 0., 0., 0., 0., 0., 0.],\n",
       "          [0., 0., 0., 0., 0., 0., 0., 0., 0.],\n",
       "          [0., 0., 0., 0., 0., 0., 0., 0., 0.],\n",
       "          [0., 0., 0., 0., 0., 0., 0., 0., 0.],\n",
       "          [0., 0., 0., 0., 0., 0., 0., 0., 0.],\n",
       "          [0., 0., 0., 0., 0., 0., 0., 0., 0.],\n",
       "          [0., 0., 0., 0., 0., 0., 0., 0., 0.],\n",
       "          [0., 0., 0., 0., 0., 0., 0., 0., 0.]],\n",
       " \n",
       "         [[2., 2., 2., 2., 2., 2., 2., 2., 2.],\n",
       "          [2., 2., 2., 2., 2., 2., 2., 2., 2.],\n",
       "          [2., 2., 2., 2., 2., 2., 2., 2., 2.],\n",
       "          [2., 2., 2., 2., 2., 2., 2., 2., 2.],\n",
       "          [2., 2., 2., 2., 2., 2., 2., 2., 2.],\n",
       "          [2., 2., 2., 2., 2., 2., 2., 2., 2.],\n",
       "          [2., 2., 2., 2., 2., 2., 2., 2., 2.],\n",
       "          [2., 2., 2., 2., 2., 2., 2., 2., 2.],\n",
       "          [2., 2., 2., 2., 2., 2., 2., 2., 2.]],\n",
       " \n",
       "         [[1., 1., 1., 1., 1., 1., 1., 1., 1.],\n",
       "          [1., 1., 1., 1., 1., 1., 1., 1., 1.],\n",
       "          [1., 1., 1., 1., 1., 1., 1., 1., 1.],\n",
       "          [1., 1., 1., 1., 1., 1., 1., 1., 1.],\n",
       "          [1., 1., 1., 1., 1., 1., 1., 1., 1.],\n",
       "          [1., 1., 1., 1., 1., 1., 1., 1., 1.],\n",
       "          [1., 1., 1., 1., 1., 1., 1., 1., 1.],\n",
       "          [1., 1., 1., 1., 1., 1., 1., 1., 1.],\n",
       "          [1., 1., 1., 1., 1., 1., 1., 1., 1.]],\n",
       " \n",
       "         [[0., 0., 0., 0., 0., 0., 0., 0., 0.],\n",
       "          [0., 0., 0., 0., 0., 0., 0., 0., 0.],\n",
       "          [0., 0., 0., 0., 0., 0., 0., 0., 0.],\n",
       "          [0., 0., 0., 0., 0., 0., 0., 0., 0.],\n",
       "          [0., 0., 0., 0., 0., 0., 0., 0., 0.],\n",
       "          [0., 0., 0., 0., 0., 0., 0., 0., 0.],\n",
       "          [0., 0., 0., 0., 0., 0., 0., 0., 0.],\n",
       "          [0., 0., 0., 0., 0., 0., 0., 0., 0.],\n",
       "          [0., 0., 0., 0., 0., 0., 0., 0., 0.]],\n",
       " \n",
       "         [[2., 3., 3., 3., 3., 3., 3., 3., 2.],\n",
       "          [3., 4., 4., 4., 4., 4., 4., 4., 3.],\n",
       "          [3., 4., 4., 4., 4., 4., 4., 4., 3.],\n",
       "          [3., 4., 4., 4., 4., 4., 4., 4., 3.],\n",
       "          [3., 4., 4., 4., 4., 4., 4., 4., 3.],\n",
       "          [3., 4., 4., 4., 4., 4., 4., 4., 3.],\n",
       "          [3., 4., 4., 4., 4., 4., 4., 4., 3.],\n",
       "          [3., 4., 4., 4., 4., 4., 4., 4., 3.],\n",
       "          [2., 3., 3., 3., 3., 3., 3., 3., 2.]]]),\n",
       " 41)"
      ]
     },
     "execution_count": 3,
     "metadata": {},
     "output_type": "execute_result"
    }
   ],
   "source": [
    "data[0]"
   ]
  },
  {
   "cell_type": "code",
   "execution_count": 8,
   "metadata": {},
   "outputs": [
    {
     "data": {
      "text/plain": [
       "'7'"
      ]
     },
     "execution_count": 8,
     "metadata": {},
     "output_type": "execute_result"
    }
   ],
   "source": []
  },
  {
   "cell_type": "code",
   "execution_count": null,
   "metadata": {
    "scrolled": true
   },
   "outputs": [],
   "source": [
    "#GPU\n",
    "device = torch.device(\"cuda:0\" if torch.cuda.is_available() else \"cpu\")\n",
    "print(device)\n",
    "pi.to(device)\n",
    "\n",
    "epochs = 1\n",
    "for _ in range(epochs):\n",
    "    running_loss = 0.0\n",
    "    for i, data in tqdm(enumerate(dataloader,0)):\n",
    "        inputs, moves = data\n",
    "        inputs, moves = inputs.to(device), moves.to(device)\n",
    "        \n",
    "        optimizer.zero_grad()\n",
    "        outputs = pi(inputs)\n",
    "        \n",
    "        #backprop\n",
    "        loss = err(outputs, moves)\n",
    "        loss.backward()\n",
    "        optimizer.step()\n",
    "    \n",
    "        running_loss += loss.item()\n",
    "        if i % 10000 == 9999 :\n",
    "            print(f\"Epoch: {epoch+1}, Loss: {running_loss:.3f}\")\n",
    "            running_loss = 0.0\n"
   ]
  },
  {
   "cell_type": "code",
   "execution_count": null,
   "metadata": {
    "scrolled": true
   },
   "outputs": [],
   "source": [
    "torch.save(pi.state_dict(), r\"/home/jupyter/BokeGo/policy_train_1.pt\")"
   ]
  }
 ],
 "metadata": {
  "kernelspec": {
   "display_name": "Python 3",
   "language": "python",
   "name": "python3"
  },
  "language_info": {
   "codemirror_mode": {
    "name": "ipython",
    "version": 3
   },
   "file_extension": ".py",
   "mimetype": "text/x-python",
   "name": "python",
   "nbconvert_exporter": "python",
   "pygments_lexer": "ipython3",
   "version": "3.8.5"
  }
 },
 "nbformat": 4,
 "nbformat_minor": 4
}
