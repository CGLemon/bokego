{
 "cells": [
  {
   "cell_type": "code",
   "execution_count": 1,
   "metadata": {
    "scrolled": true
   },
   "outputs": [],
   "source": [
    "import matplotlib.pyplot as plt\n",
    "from tqdm import tqdm, trange\n",
    "import torch\n",
    "import torch.nn as nn\n",
    "from torch.utils.data import DataLoader\n",
    "from bokePolicy import PolicyNet, NinebyNineGames\n",
    "%matplotlib inline"
   ]
  },
  {
   "cell_type": "code",
   "execution_count": 2,
   "metadata": {
    "scrolled": true
   },
   "outputs": [],
   "source": [
    "data = NinebyNineGames(\"data\")\n",
    "dataloader = DataLoader(data, batch_size = 32, shuffle = True)\n",
    "\n",
    "pi = PolicyNet()\n",
    "err = nn.CrossEntropyLoss()\n",
    "optimizer = torch.optim.Adam(pi.parameters(), lr = 0.001)"
   ]
  },
  {
   "cell_type": "code",
   "execution_count": 4,
   "metadata": {},
   "outputs": [
    {
     "name": "stdout",
     "output_type": "stream",
     "text": [
      "2967680\n"
     ]
    },
    {
     "data": {
      "text/plain": [
       "(tensor([[[ 0.,  0.,  0.,  0.,  0.,  0.,  0.,  0.,  0.],\n",
       "          [ 0.,  0.,  0.,  0.,  0.,  0.,  0.,  0.,  0.],\n",
       "          [ 0.,  0.,  0.,  0.,  0.,  0., 10.,  0.,  0.],\n",
       "          [ 0.,  0., 10., 10.,  0., 10.,  0.,  0.,  0.],\n",
       "          [ 0.,  0.,  0., 10.,  0.,  0.,  0.,  0.,  0.],\n",
       "          [ 0.,  0.,  0.,  0.,  0.,  0.,  0.,  0.,  0.],\n",
       "          [ 0.,  0.,  0.,  0.,  0.,  0.,  0.,  0.,  0.],\n",
       "          [ 0.,  0.,  0.,  0.,  0.,  0.,  0.,  0.,  0.],\n",
       "          [ 0.,  0.,  0.,  0.,  0.,  0.,  0.,  0.,  0.]],\n",
       " \n",
       "         [[ 0.,  0.,  0.,  0.,  0.,  0.,  0.,  0.,  0.],\n",
       "          [ 0.,  0.,  0.,  0.,  0.,  0.,  0.,  0.,  0.],\n",
       "          [ 0.,  0.,  0.,  0.,  0.,  0.,  0.,  0.,  0.],\n",
       "          [ 0.,  0.,  0.,  0.,  0.,  0.,  0.,  0.,  0.],\n",
       "          [ 0.,  0., 10.,  0., 10.,  0.,  0.,  0.,  0.],\n",
       "          [ 0.,  0.,  0., 10., 10.,  0.,  0.,  0.,  0.],\n",
       "          [ 0.,  0.,  0.,  0.,  0.,  0.,  0.,  0.,  0.],\n",
       "          [ 0.,  0.,  0.,  0.,  0.,  0.,  0.,  0.,  0.],\n",
       "          [ 0.,  0.,  0.,  0.,  0.,  0.,  0.,  0.,  0.]],\n",
       " \n",
       "         [[20., 20., 20., 20., 20., 20., 20., 20., 20.],\n",
       "          [20., 20., 20., 20., 20., 20., 20., 20., 20.],\n",
       "          [20., 20., 20., 20., 20., 20.,  0., 20., 20.],\n",
       "          [20., 20.,  0.,  0., 20.,  0., 20., 20., 20.],\n",
       "          [20., 20.,  0.,  0.,  0., 20., 20., 20., 20.],\n",
       "          [20., 20., 20.,  0.,  0., 20., 20., 20., 20.],\n",
       "          [20., 20., 20., 20., 20., 20., 20., 20., 20.],\n",
       "          [20., 20., 20., 20., 20., 20., 20., 20., 20.],\n",
       "          [20., 20., 20., 20., 20., 20., 20., 20., 20.]],\n",
       " \n",
       "         [[10., 10., 10., 10., 10., 10., 10., 10., 10.],\n",
       "          [10., 10., 10., 10., 10., 10., 10., 10., 10.],\n",
       "          [10., 10., 10., 10., 10., 10.,  0., 10., 10.],\n",
       "          [10., 10.,  0.,  0., 10.,  0., 10., 10., 10.],\n",
       "          [10., 10.,  0.,  0.,  0., 10., 10., 10., 10.],\n",
       "          [10., 10., 10.,  0.,  0., 10., 10., 10., 10.],\n",
       "          [10., 10., 10., 10., 10., 10., 10., 10., 10.],\n",
       "          [10., 10., 10., 10., 10., 10., 10., 10., 10.],\n",
       "          [10., 10., 10., 10., 10., 10., 10., 10., 10.]],\n",
       " \n",
       "         [[ 0.,  0.,  0.,  0.,  0.,  0.,  0.,  0.,  0.],\n",
       "          [ 0.,  0.,  0.,  0.,  0.,  0.,  0.,  0.,  0.],\n",
       "          [ 0.,  0.,  0.,  0.,  0.,  0., 40.,  0.,  0.],\n",
       "          [ 0.,  0., 40., 40.,  0., 40.,  0.,  0.,  0.],\n",
       "          [ 0.,  0., 20., 40., 60.,  0.,  0.,  0.,  0.],\n",
       "          [ 0.,  0.,  0., 60., 60.,  0.,  0.,  0.,  0.],\n",
       "          [ 0.,  0.,  0.,  0.,  0.,  0.,  0.,  0.,  0.],\n",
       "          [ 0.,  0.,  0.,  0.,  0.,  0.,  0.,  0.,  0.],\n",
       "          [ 0.,  0.,  0.,  0.,  0.,  0.,  0.,  0.,  0.]],\n",
       " \n",
       "         [[20., 30., 30., 30., 30., 30., 30., 30., 20.],\n",
       "          [30., 40., 40., 40., 40., 40., 30., 40., 30.],\n",
       "          [30., 40., 30., 30., 40., 20., 40., 30., 30.],\n",
       "          [30., 30., 40., 20., 60., 40., 20., 40., 30.],\n",
       "          [30., 40., 20., 70., 60., 60., 40., 40., 30.],\n",
       "          [30., 40., 80., 60., 60., 70., 40., 40., 30.],\n",
       "          [30., 40., 40., 70., 70., 40., 40., 40., 30.],\n",
       "          [30., 40., 40., 40., 40., 40., 40., 40., 30.],\n",
       "          [20., 30., 30., 30., 30., 30., 30., 30., 20.]]]),\n",
       " 37)"
      ]
     },
     "execution_count": 4,
     "metadata": {},
     "output_type": "execute_result"
    }
   ],
   "source": [
    "print(len(data))\n",
    "data[10000]"
   ]
  },
  {
   "cell_type": "code",
   "execution_count": null,
   "metadata": {
    "scrolled": true
   },
   "outputs": [],
   "source": [
    "#GPU\n",
    "device = torch.device(\"cuda:0\" if torch.cuda.is_available() else \"cpu\")\n",
    "print(device)\n",
    "pi.to(device)\n",
    "\n",
    "epochs = 1\n",
    "for _ in range(epochs):\n",
    "    running_loss = 0.0\n",
    "    for i, data in tqdm(enumerate(dataloader,0)):\n",
    "        inputs, moves = data\n",
    "        inputs, moves = inputs.to(device), moves.to(device)\n",
    "        \n",
    "        optimizer.zero_grad()\n",
    "        outputs = pi(inputs)\n",
    "        \n",
    "        #backprop\n",
    "        loss = err(outputs, moves)\n",
    "        loss.backward()\n",
    "        optimizer.step()\n",
    "    \n",
    "        running_loss += loss.item()\n",
    "        if i % 10000 == 9999 :\n",
    "            print(f\"Epoch: {epoch+1}, Loss: {running_loss:.3f}\")\n",
    "            running_loss = 0.0\n"
   ]
  },
  {
   "cell_type": "code",
   "execution_count": null,
   "metadata": {
    "scrolled": true
   },
   "outputs": [],
   "source": [
    "torch.save(pi.state_dict(), r\"/home/jupyter/BokeGo/policy_train_1.pt\")"
   ]
  }
 ],
 "metadata": {
  "kernelspec": {
   "display_name": "Python 3",
   "language": "python",
   "name": "python3"
  },
  "language_info": {
   "codemirror_mode": {
    "name": "ipython",
    "version": 3
   },
   "file_extension": ".py",
   "mimetype": "text/x-python",
   "name": "python",
   "nbconvert_exporter": "python",
   "pygments_lexer": "ipython3",
   "version": "3.8.5"
  }
 },
 "nbformat": 4,
 "nbformat_minor": 4
}
