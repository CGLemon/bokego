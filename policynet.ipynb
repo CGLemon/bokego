{
 "cells": [
  {
   "cell_type": "code",
   "execution_count": null,
   "metadata": {
    "scrolled": true
   },
   "outputs": [],
   "source": [
    "import numpy as np\n",
    "import matplotlib.pyplot as plt\n",
    "from tqdm import tqdm, trange\n",
    "import torch\n",
    "import torch.nn as nn\n",
    "import torch.optim as optim\n",
    "import torch.nn.functional as F\n",
    "from torch.utils.data import Dataset, DataLoader\n",
    "%matplotlib inline"
   ]
  },
  {
   "cell_type": "code",
   "execution_count": null,
   "metadata": {
    "scrolled": true
   },
   "outputs": [],
   "source": [
    "class Policy(nn.Module):\n",
    "    def __init__(self):\n",
    "        super(Policy, self).__init__()\n",
    "        # 3x3 Convolution: 9x9 --> 5x5x(30 features)\n",
    "        self.conv = nn.Conv2d(1,30,3)\n",
    "        self.pool = nn.MaxPool2d((2,2))\n",
    "        self.l1 = nn.Linear(30*3*3,200)\n",
    "        self.l2 = nn.Linear(200,120)\n",
    "        self.l3 = nn.Linear(120, 81)\n",
    "        \n",
    "    def forward(self, x):\n",
    "        x = self.pool(F.relu(self.conv(x)))\n",
    "        x= x.view(-1, self.num_flat_features(x))\n",
    "        x = F.relu(self.l1(x))\n",
    "        x = F.relu(self.l2(x))\n",
    "        x = self.l3(x)\n",
    "        return x\n",
    "\n",
    "    def num_flat_features(self, x):\n",
    "        size = x.size()[1:]  # all dimensions except the batch dimension\n",
    "        num_features = 1\n",
    "        for s in size:\n",
    "            num_features *= s\n",
    "        return num_features\n",
    "    "
   ]
  },
  {
   "cell_type": "code",
   "execution_count": null,
   "metadata": {
    "scrolled": true
   },
   "outputs": [],
   "source": [
    "import os\n",
    "import re\n",
    "import go\n",
    "from parse_sgf import get_moves\n",
    "\n",
    "def randReflect(board, move):\n",
    "    if np.random.randint(2):\n",
    "        board = board.T\n",
    "        (x, y) = move\n",
    "        move = (y,x)\n",
    "    return board, move\n",
    "\n",
    "class NinebyNineGames(Dataset):\n",
    "    def __init__(self, root_dir, transform = None):\n",
    "        '''Read all the .sgf files from root_dir'''\n",
    "        self.transform = transform\n",
    "        self.root_dir = root_dir\n",
    "        self.sgf_files = [entry for entry in os.scandir(self.root_dir) if entry.path.endswith(\".sgf\")]\n",
    "        self.games = [get_moves(sgf) for sgf in self.sgf_files]\n",
    "            \n",
    "    def __len__(self):\n",
    "        return sum( len(game) for game in self.games)\n",
    "    \n",
    "    def __getitem__(self, idx):\n",
    "        '''return the position as a (9,9) ndarray\n",
    "        and next move as a squashed coordinate 0 - 80'''\n",
    "        g_idx = 0\n",
    "        count = 0\n",
    "        while(idx > count + len(self.games[g_idx]) -1 ) :\n",
    "            count += len(self.games[g_idx])\n",
    "            g_idx += 1\n",
    "        g = go.Game( moves = self.games[g_idx])\n",
    "        \n",
    "        for _ in range(idx-count):\n",
    "                g.play_move()\n",
    "        board, move =  np.array(g.get_board()).reshape(9,9) , g.moves[idx - count]\n",
    "        if self.transform:\n",
    "            board , move = self.transform(board, move)\n",
    "        return torch.Tensor(board).unsqueeze(0) , go.squash(move)"
   ]
  },
  {
   "cell_type": "code",
   "execution_count": null,
   "metadata": {
    "scrolled": true
   },
   "outputs": [],
   "source": [
    "dir = r\"/home/jupyter/BokeGo/data\"\n",
    "data = NinebyNineGames(dir)\n",
    "dataloader = DataLoader(data, batch_size = 32, shuffle = True)\n",
    "\n",
    "pi = Policy()\n",
    "err = nn.CrossEntropyLoss()\n",
    "optimizer = optim.Adam(pi.parameters(), lr = 0.001)"
   ]
  },
  {
   "cell_type": "code",
   "execution_count": null,
   "metadata": {
    "scrolled": true
   },
   "outputs": [],
   "source": [
    "#GPU\n",
    "device = torch.device(\"cuda:0\" if torch.cuda.is_available() else \"cpu\")\n",
    "print(device)\n",
    "pi.to(device)\n",
    "\n",
    "epochs = 2\n",
    "for _ in range(epochs):\n",
    "    running_loss = 0.0\n",
    "    for i, data in tqdm(enumerate(dataloader,0)):\n",
    "        inputs, moves = data\n",
    "        inputs, moves = inputs.to(device), moves.to(device)\n",
    "        \n",
    "        optimizer.zero_grad()\n",
    "        outputs = pi(inputs)\n",
    "        \n",
    "        #backprop\n",
    "        loss = err(outputs, moves)\n",
    "        loss.backward()\n",
    "        optimizer.step()\n",
    "    \n",
    "        running_loss += loss.item()\n",
    "        if i % 10000 == 9999 :\n",
    "            print(f\"Epoch: {epoch+1}, Loss: {running_loss:.3f}\")\n",
    "            running_loss = 0.0\n"
   ]
  },
  {
   "cell_type": "code",
   "execution_count": null,
   "metadata": {
    "scrolled": true
   },
   "outputs": [],
   "source": [
    "torch.save(pi.state_dict(), r\"/home/jupyter/BokeGo/policy_train_1.pt\")"
   ]
  }
 ],
 "metadata": {
  "kernelspec": {
   "display_name": "Python 3",
   "language": "python",
   "name": "python3"
  },
  "language_info": {
   "codemirror_mode": {
    "name": "ipython",
    "version": 3
   },
   "file_extension": ".py",
   "mimetype": "text/x-python",
   "name": "python",
   "nbconvert_exporter": "python",
   "pygments_lexer": "ipython3",
   "version": "3.8.5"
  }
 },
 "nbformat": 4,
 "nbformat_minor": 4
}
